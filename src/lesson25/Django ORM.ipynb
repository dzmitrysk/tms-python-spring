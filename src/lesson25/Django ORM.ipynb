{
 "cells": [
  {
   "cell_type": "markdown",
   "id": "91a267ae",
   "metadata": {},
   "source": [
    "# Django ORM"
   ]
  },
  {
   "cell_type": "markdown",
   "id": "f0a85f80",
   "metadata": {},
   "source": [
    "## Настройка БД. Django ORM. Django models\n",
    "\n",
    "Note: Проверьте что у вас создался файл 'db.sqlite3'"
   ]
  },
  {
   "cell_type": "code",
   "execution_count": null,
   "id": "f7cf829e",
   "metadata": {},
   "outputs": [],
   "source": [
    "# tms_django_lessons/settings.py\n",
    "DATABASES = {\n",
    "    'default': {\n",
    "        'ENGINE': 'django.db.backends.sqlite3',\n",
    "        'NAME': BASE_DIR / 'db.sqlite3',\n",
    "    }\n",
    "}"
   ]
  },
  {
   "cell_type": "markdown",
   "id": "ba039aee",
   "metadata": {},
   "source": [
    "## Модели\n",
    "\n",
    "https://docs.djangoproject.com/en/3.2/topics/db/models/\n",
    "https://djangodoc.ru/3.1/topics/db/models/\n",
    "\n",
    "**Модель** - это единственный и окончательный источник информации о ваших данных. Он содержит основные поля и поведение хранимых вами данных. Обычно каждой модели соответствует одна таблица в базе данных.\n",
    "\n",
    "Основы :\n",
    "- Каждая модель - это класс Python, наследующий от django.db.models.Model .\n",
    "- Каждый атрибут модели представляет поле базы данных.\n",
    "- Наряду со всем этим Django предоставляет API для доступа к автоматически сгенерированной базе данных; см. Создание запросов ."
   ]
  },
  {
   "cell_type": "code",
   "execution_count": null,
   "id": "8bceeb0d",
   "metadata": {},
   "outputs": [],
   "source": [
    "# articles/models.py\n",
    "from django.db import models\n",
    "\n",
    "\n",
    "class Article(models.Model):\n",
    "    title = models.CharField(max_length=50)\n",
    "    content = models.TextField()\n",
    "    author_name = models.CharField(max_length=50)\n",
    "    rating = models.IntegerField()"
   ]
  },
  {
   "cell_type": "markdown",
   "id": "8ea67205",
   "metadata": {},
   "source": [
    "Класс выше будет соответствовать таблице вида:\n",
    "```sql\n",
    "create table articles_article\n",
    "(\n",
    "    id          integer     not null\n",
    "        primary key autoincrement,\n",
    "    title       varchar(50) not null,\n",
    "    content     text        not null,\n",
    "    author_name varchar(50) not null,\n",
    "    rating      integer     not null\n",
    ");\n",
    "```\n",
    "\n",
    "Note:\n",
    "- название таблицы по умолчанию берется из названия приложения и названия таблицы переведенного из формата [PascalCase в camel_case](https://www.theserverside.com/answer/Pascal-case-vs-camel-case-Whats-the-difference)\n",
    "  - имя менять можно https://docs.djangoproject.com/en/3.2/ref/models/options/#db-table\n",
    "- id - колонка по умолчанию добавляется в каждую таблицу, которая унаследована от models.Model\n",
    "  - колонку менять можно https://marcolcl.medium.com/custom-django-model-field-based-on-default-primary-key-d5d13dd61a1c"
   ]
  },
  {
   "cell_type": "markdown",
   "id": "6d1234bb",
   "metadata": {},
   "source": [
    "## makemigrations and migrate\n",
    "\n",
    "- После создания класса, таблица не создастся в базе не появилась:(\n",
    "- Чтобы исправить ситуацию нам потребуется запустить 2 команды в консоли:\n",
    "```shell\n",
    "python manage.py makemigrations\n",
    "python manage.py migrate\n",
    "```\n",
    "\n",
    "#### makemigrations\n",
    "- https://docs.djangoproject.com/en/3.2/ref/django-admin/#django-admin-makemigrations\n",
    "- Сгенерирует файл в папке `articles/migrations/0001_initial.py`\n",
    "\n",
    "#### migrate\n",
    "- https://docs.djangoproject.com/en/3.2/ref/django-admin/#migrate\n",
    "- Применит все файлы которые находятся в папках `migrations` из всех приложений описанных в [INSTALLED_APPS](https://docs.djangoproject.com/en/3.2/ref/settings/#installed-apps)\n",
    "\n",
    "Note: по умолчанию django предостваляет и свои файлы миграций, потому в базе данных будет создана больше чем одна таблица"
   ]
  },
  {
   "cell_type": "markdown",
   "id": "6efaab55",
   "metadata": {},
   "source": [
    "## Задание 1. \n",
    "Добавить колонку `topic varchar(50) null `, создать миграции и применить их\n",
    "\n",
    "Примечание: в файле `tms_django_lessons/settings.py` обязательно должно быть добавленно приложение `articles` в INSTALLED_APPS"
   ]
  },
  {
   "cell_type": "code",
   "execution_count": null,
   "id": "8d658248",
   "metadata": {},
   "outputs": [],
   "source": []
  },
  {
   "cell_type": "markdown",
   "id": "ed2c3e19",
   "metadata": {},
   "source": [
    "## django shell\n",
    "\n",
    "- PyCharm Pro по умолчанию предоставляет консоль для работы с django\n",
    "- Если у вас не PyCharm Pro то вы можете запустить в консоли команду \n",
    "```shell\n",
    "python manage.py shell\n",
    "```"
   ]
  },
  {
   "cell_type": "markdown",
   "id": "cc8c6577",
   "metadata": {},
   "source": [
    "## Создание записей в БД используя ORM\n",
    "\n",
    "Три способа сохранить данные в бд:"
   ]
  },
  {
   "cell_type": "code",
   "execution_count": null,
   "id": "240ff32c",
   "metadata": {},
   "outputs": [],
   "source": [
    "# 1\n",
    "from articles.models import Article\n",
    "\n",
    "article = Article(\n",
    "    title='Olympic Games 2021', \n",
    "    content='not bad games', \n",
    "    author_name='winner',\n",
    "    rating=5,              \n",
    ")\n",
    "article.save()"
   ]
  },
  {
   "cell_type": "code",
   "execution_count": null,
   "id": "322a3ab0",
   "metadata": {},
   "outputs": [],
   "source": [
    "# 2 \n",
    "from articles.models import Article\n",
    "\n",
    "article = Article()\n",
    "article.title = 'Belarus 2021'\n",
    "article.content = 'not bad country'\n",
    "article.author_name = 'bulba'\n",
    "article.rating = 8\n",
    "article.save()"
   ]
  },
  {
   "cell_type": "code",
   "execution_count": null,
   "id": "7b7cc21a",
   "metadata": {},
   "outputs": [],
   "source": [
    "# 3\n",
    "from articles.models import Article\n",
    "\n",
    "article = Article.objects.create(\n",
    "    title='TeachMeSkills', \n",
    "    content='not bad school', \n",
    "    author_name='trainer',\n",
    "    rating=10, # :)\n",
    ")"
   ]
  },
  {
   "cell_type": "markdown",
   "id": "d25dd1a3",
   "metadata": {},
   "source": [
    "## Получение записей из БД\n",
    "```python\n",
    "from articles.models import Article\n",
    "\n",
    "Article.objects.filter()  # получение всех записей из БД\n",
    "\n",
    "Article.objects.filter(title='Belarus 2021')  # получение всех записей из БД  подходящих по условию\n",
    "\n",
    "Article.objects.get(id=2)  # получение одной конкретно записи\n",
    "\n",
    "Article.objects.filter().first()  # получение первого элемента\n",
    "```"
   ]
  },
  {
   "cell_type": "markdown",
   "id": "fbb38e26",
   "metadata": {},
   "source": [
    "## Задание 2\n",
    "- Создать 3 статьи. \n",
    "- Получить статьи с именем News. \n",
    "- Получить статью с id 1."
   ]
  },
  {
   "cell_type": "code",
   "execution_count": null,
   "id": "e80e9872",
   "metadata": {},
   "outputs": [],
   "source": []
  },
  {
   "cell_type": "markdown",
   "id": "19368d17",
   "metadata": {},
   "source": [
    "## Удаление записей\n",
    "```python\n",
    "from articles.models import Article\n",
    "\n",
    "customer = Article.objects.get(id=5)\n",
    "customer.delete()  # удаление одной записи\n",
    "\n",
    "Article.objects.filter(title='News').delete()  # Удаление множество записей\n",
    "```"
   ]
  },
  {
   "cell_type": "markdown",
   "id": "e5fc2ba1",
   "metadata": {},
   "source": [
    "## Задание 3\n",
    "\n",
    "Удалить трех пользователей"
   ]
  },
  {
   "cell_type": "code",
   "execution_count": null,
   "id": "c99eacb4",
   "metadata": {},
   "outputs": [],
   "source": []
  },
  {
   "cell_type": "markdown",
   "id": "d10c70d5",
   "metadata": {},
   "source": [
    "## Обновление записей в бд\n",
    "\n",
    "Два способа обновления:"
   ]
  },
  {
   "cell_type": "code",
   "execution_count": null,
   "id": "f235f3f6",
   "metadata": {},
   "outputs": [],
   "source": [
    "# 1\n",
    "article = Article.objects.get(id=5)\n",
    "article.content = 'Wow cool!'\n",
    "article.save()"
   ]
  },
  {
   "cell_type": "code",
   "execution_count": null,
   "id": "57d83ed0",
   "metadata": {},
   "outputs": [],
   "source": [
    "# 2\n",
    "Article.objects.filter(title='Belarus 2021').update(title='Belarus Forever')"
   ]
  },
  {
   "cell_type": "markdown",
   "id": "0c9460a6",
   "metadata": {},
   "source": [
    "## Задание 4\n",
    "Обновить 3 пользователя"
   ]
  },
  {
   "cell_type": "code",
   "execution_count": null,
   "id": "c656c843",
   "metadata": {},
   "outputs": [],
   "source": []
  },
  {
   "cell_type": "markdown",
   "id": "c731dc77",
   "metadata": {},
   "source": [
    "## Задание 5 (вместе)\n",
    "\n",
    "Добавить возможность создания articles через сайт"
   ]
  },
  {
   "cell_type": "markdown",
   "id": "b36c3bec",
   "metadata": {},
   "source": [
    "### Добавим класс для формы создания article\n",
    "\n",
    "Note: обычно название формы создается по шаблону МодельДействиеРодитель\n",
    "\n",
    "\n",
    "ArticleCreateForm:\n",
    "- Article == Модель\n",
    "- Create == Действие\n",
    "- Form == Родитель"
   ]
  },
  {
   "cell_type": "code",
   "execution_count": null,
   "id": "76f0f992",
   "metadata": {},
   "outputs": [],
   "source": [
    "# articles/forms.py\n",
    "\n",
    "from django import forms\n",
    "\n",
    "\n",
    "class ArticleCreateForm(forms.Form):\n",
    "    title = forms.CharField(max_length=50)\n",
    "    content = forms.CharField()\n",
    "    author_name = forms.CharField(max_length=50)\n",
    "    rating = forms.IntegerField()\n",
    "    topic = forms.CharField(max_length=50, required=False)"
   ]
  },
  {
   "cell_type": "markdown",
   "id": "5131cee6",
   "metadata": {},
   "source": [
    "### Добавим html файл `add_article.html` для создания article\n",
    "\n",
    "Note: нам не важно как будет выглядить {{ form }} переданный в html файл"
   ]
  },
  {
   "cell_type": "markdown",
   "id": "44518e9e",
   "metadata": {},
   "source": [
    "templates/add_article.html\n",
    "```html\n",
    "{% extends \"base.html\" %}\n",
    "\n",
    "{% block title %}Add article{% endblock %}\n",
    "\n",
    "{% block content %}\n",
    "    <h1>\n",
    "        Article creation\n",
    "    </h1>\n",
    "    <form action=\"\" method=\"post\">\n",
    "        {% csrf_token %}\n",
    "        {{ form }}\n",
    "        <input type=\"submit\" name=\"Добавить статью\">\n",
    "    </form>\n",
    "{% endblock %}\n",
    "```"
   ]
  },
  {
   "cell_type": "markdown",
   "id": "cb167cb2",
   "metadata": {},
   "source": [
    "## Создать функцию add_article"
   ]
  },
  {
   "cell_type": "code",
   "execution_count": null,
   "id": "3024fc07",
   "metadata": {},
   "outputs": [],
   "source": [
    "# articles/views.py\n",
    "\n",
    "# ...\n",
    "\n",
    "from articles.models import Article\n",
    "from articles.forms import ArticleCreateForm\n",
    "\n",
    "# ...\n",
    "\n",
    "def add_article(request):\n",
    "    if request.method == 'POST':\n",
    "        form = ArticleCreateForm(request.POST)\n",
    "        if form.is_valid():\n",
    "            Article.objects.create(\n",
    "                title=form.cleaned_data['title'],\n",
    "                content=form.cleaned_data['content'],\n",
    "                author_name=form.cleaned_data['author_name'],\n",
    "                rating=form.cleaned_data['rating'],\n",
    "                topic=form.cleaned_data.get('topic'),\n",
    "            )\n",
    "    else:\n",
    "        form = ArticleCreateForm()\n",
    "    return render(\n",
    "        request,\n",
    "        'add_article.html',\n",
    "        context={'form': form}\n",
    "    )\n"
   ]
  },
  {
   "cell_type": "markdown",
   "id": "afee8dc9",
   "metadata": {},
   "source": [
    "## Cоздать новый url `add-article/`"
   ]
  },
  {
   "cell_type": "code",
   "execution_count": null,
   "id": "f50219e7",
   "metadata": {},
   "outputs": [],
   "source": [
    "# tms_django_lessons/urls.py\n",
    "\n",
    "# ...\n",
    "\n",
    "from articles.views import index, home_page, get_article_page, add_article\n",
    "\n",
    "urlpatterns = [\n",
    "    # ...\n",
    "    path('add-article/', add_article),\n",
    "]"
   ]
  },
  {
   "cell_type": "code",
   "execution_count": null,
   "id": "39a2b0ab",
   "metadata": {},
   "outputs": [],
   "source": []
  },
  {
   "cell_type": "markdown",
   "id": "351608c9",
   "metadata": {},
   "source": [
    "## Задание 6\n",
    "Протестировать все, что добавили"
   ]
  },
  {
   "cell_type": "code",
   "execution_count": null,
   "id": "9e9da755",
   "metadata": {},
   "outputs": [],
   "source": []
  },
  {
   "cell_type": "markdown",
   "id": "14a15d9d",
   "metadata": {},
   "source": [
    "## Перенаправление. 3 варианта\n",
    "\n",
    "\n",
    "```python\n",
    "from django.shortcuts import redirect\n",
    "\n",
    "# 1\n",
    "return redirect(thanks_page)  # на конкретную view\n",
    "# 2 \n",
    "return redirect('thanks_page_name')  # на имя определенное в urls.py\n",
    "# 3 \n",
    "return redirect('/thanks/') # на определенный урл\n",
    "```"
   ]
  },
  {
   "cell_type": "markdown",
   "id": "ff58137d",
   "metadata": {},
   "source": [
    "## Задание 7 (HW)\n",
    "\n",
    "- После создания пользователя -  перенаправлять на домашнюю страницу. \n",
    "- Добавить возможность переход на форму создания с домашней страницы."
   ]
  },
  {
   "cell_type": "code",
   "execution_count": null,
   "id": "53911e45",
   "metadata": {},
   "outputs": [],
   "source": []
  },
  {
   "cell_type": "markdown",
   "id": "c7649359",
   "metadata": {},
   "source": [
    "## Задание 8\n",
    "\n",
    "Отображать все Article на домашней страницe"
   ]
  },
  {
   "cell_type": "markdown",
   "id": "fafa7fb8",
   "metadata": {},
   "source": [
    "Note: Удалим ненужную форму WriteLineForm\n",
    "\n",
    "## Перепишем функцию `home_page` чтобы она возвращала все Article\n",
    "```python\n",
    "# articles/views.py\n",
    "def home_page(request):\n",
    "    articles = Article.objects.all()\n",
    "    return render(\n",
    "        request,\n",
    "        'home.html',\n",
    "        context={\"articles\": articles},\n",
    "    )\n",
    "```\n",
    "## Перепишем файл `home.html` чтобы он мог отображать все Article\n",
    "templates/home.html\n",
    "```html\n",
    "{% extends \"base.html\" %}\n",
    "\n",
    "{% block title %}Home Page{% endblock %}\n",
    "\n",
    "{% block content %}\n",
    "    <h1>\n",
    "        Hello user\n",
    "    </h1>\n",
    "    {% for article in articles %}\n",
    "        {{ article }} <br>\n",
    "    {% endfor %}\n",
    "{% endblock %}\n",
    "```"
   ]
  },
  {
   "cell_type": "code",
   "execution_count": null,
   "id": "fc080708",
   "metadata": {},
   "outputs": [],
   "source": []
  }
 ],
 "metadata": {
  "kernelspec": {
   "display_name": "Python 3 (ipykernel)",
   "language": "python",
   "name": "python3"
  },
  "language_info": {
   "codemirror_mode": {
    "name": "ipython",
    "version": 3
   },
   "file_extension": ".py",
   "mimetype": "text/x-python",
   "name": "python",
   "nbconvert_exporter": "python",
   "pygments_lexer": "ipython3",
   "version": "3.8.5"
  }
 },
 "nbformat": 4,
 "nbformat_minor": 5
}
