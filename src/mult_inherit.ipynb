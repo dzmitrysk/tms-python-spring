{
 "cells": [
  {
   "cell_type": "code",
   "execution_count": 56,
   "metadata": {
    "collapsed": true,
    "pycharm": {
     "name": "#%%\n"
    }
   },
   "outputs": [
    {
     "name": "stdout",
     "output_type": "stream",
     "text": [
      "E -> A -> B -> K -> object -> \n",
      "10 10 11 11 12 15\n"
     ]
    }
   ],
   "source": [
    "class A:\n",
    "    def __init__(self, a, b):\n",
    "        self.a, self.b = a, b\n",
    "\n",
    "class B:\n",
    "    def __init__(self, c, d):\n",
    "        self.c, self.d = c, d\n",
    "\n",
    "class K:\n",
    "    def __init__(self, k):\n",
    "        self.k = k\n",
    "\n",
    "class E(A, B, K):\n",
    "    def __init__(self, a, b, c, d, k, e):\n",
    "        super().__init__(a, b) # Конструктор из класса A, аналог super(E, self).__init__(a, b)\n",
    "        super(A, self).__init__(c, d) # Конструктор из класса B\n",
    "        super(B, self).__init__(k)  # Конструктор из класса K\n",
    "        self.e = e\n",
    "\n",
    "        # Цепочка MRO для класса E:   E -> A -> B -> K -> object\n",
    "\n",
    "        # Вызов super().method вызывает первый встретившийся метод \"method\"\n",
    "        # перебирая родительские классы по цепочке MRO,\n",
    "        # начиная с первого (левого) родителя A\n",
    "\n",
    "        # Вызов super(A, self).method вызывает первый встретившийся метод \"method\"\n",
    "        # перебирая родительские классы по цепочке MRO,\n",
    "        # начиная с класса, следующего в MRO после класса A\n",
    "\n",
    "for elem in E.mro(): # Цепочка MRO для класса E\n",
    "    print(f\"{elem.__name__}\", end=\" -> \")\n",
    "\n",
    "e = E(10, 10, 11, 11, 12, 15)\n",
    "print()\n",
    "print(e.a, e.b, e.c, e.d, e.k, e.e)"
   ]
  }
 ],
 "metadata": {
  "kernelspec": {
   "display_name": "Python 3",
   "language": "python",
   "name": "python3"
  },
  "language_info": {
   "codemirror_mode": {
    "name": "ipython",
    "version": 2
   },
   "file_extension": ".py",
   "mimetype": "text/x-python",
   "name": "python",
   "nbconvert_exporter": "python",
   "pygments_lexer": "ipython2",
   "version": "2.7.6"
  }
 },
 "nbformat": 4,
 "nbformat_minor": 0
}