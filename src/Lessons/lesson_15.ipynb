{
 "cells": [
  {
   "cell_type": "markdown",
   "metadata": {
    "collapsed": true,
    "pycharm": {
     "name": "#%% md\n"
    }
   },
   "source": [
    "# <u> Lesson 15 </u>"
   ]
  },
  {
   "cell_type": "markdown",
   "source": [
    "### Задание 14.01\n",
    "Создать бесконечный генератор случайных чисел."
   ],
   "metadata": {
    "collapsed": false,
    "pycharm": {
     "name": "#%% md\n"
    }
   }
  },
  {
   "cell_type": "code",
   "execution_count": 6,
   "outputs": [
    {
     "name": "stdout",
     "output_type": "stream",
     "text": [
      "9\n",
      "4\n",
      "8\n",
      "9\n",
      "9\n",
      "10\n",
      "6\n",
      "7\n",
      "5\n",
      "8\n",
      "5\n",
      "3\n",
      "0\n",
      "7\n",
      "7\n"
     ]
    }
   ],
   "source": [
    "from random import randint\n",
    "\n",
    "def gen():\n",
    "    while True:\n",
    "        yield randint(0, 10)\n",
    "\n",
    "\n",
    "my_gen = gen()\n",
    "\n",
    "for _ in range(15):\n",
    "    print(next(my_gen))\n",
    "    "
   ],
   "metadata": {
    "collapsed": false,
    "pycharm": {
     "name": "#%%\n"
    }
   }
  },
  {
   "cell_type": "markdown",
   "source": [
    "### Задание 14.02\n",
    "Модифицировать генератор, чтобы генератор принимал диапазон случайных чисел<br>\n",
    "и чтобы последующее случайное число лежало в диапазоне смещенном на n.\n",
    "```\n",
    "Пример:\n",
    "a = 1, b = 10, diff = 10\n",
    "\n",
    "1- 10\n",
    "11-20\n",
    "...\n",
    "N +10 - M + 10\n",
    "```"
   ],
   "metadata": {
    "collapsed": false,
    "pycharm": {
     "name": "#%% md\n"
    }
   }
  },
  {
   "cell_type": "code",
   "execution_count": 5,
   "outputs": [
    {
     "name": "stdout",
     "output_type": "stream",
     "text": [
      "1\n",
      "1008\n",
      "2008\n",
      "3004\n",
      "4006\n"
     ]
    }
   ],
   "source": [
    "def gen(a, b, diff):\n",
    "    while True:\n",
    "        yield randint(a, b)\n",
    "        a += diff\n",
    "        b += diff\n",
    "\n",
    "\n",
    "my_gen = gen(a=1, b=10, diff=1000)\n",
    "print(next(my_gen))\n",
    "print(next(my_gen))\n",
    "print(next(my_gen))\n",
    "print(next(my_gen))\n",
    "print(next(my_gen))"
   ],
   "metadata": {
    "collapsed": false,
    "pycharm": {
     "name": "#%%\n"
    }
   }
  }
 ],
 "metadata": {
  "kernelspec": {
   "display_name": "Python 3",
   "language": "python",
   "name": "python3"
  },
  "language_info": {
   "codemirror_mode": {
    "name": "ipython",
    "version": 2
   },
   "file_extension": ".py",
   "mimetype": "text/x-python",
   "name": "python",
   "nbconvert_exporter": "python",
   "pygments_lexer": "ipython2",
   "version": "2.7.6"
  }
 },
 "nbformat": 4,
 "nbformat_minor": 0
}