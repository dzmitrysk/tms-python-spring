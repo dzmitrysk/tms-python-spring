{
 "cells": [
  {
   "cell_type": "markdown",
   "source": [
    "**Task 8-01**"
   ],
   "metadata": {
    "collapsed": false,
    "pycharm": {
     "name": "#%% md\n"
    }
   }
  },
  {
   "cell_type": "code",
   "execution_count": 14,
   "outputs": [
    {
     "name": "stdout",
     "output_type": "stream",
     "text": [
      "[[94, 79, 58], [8, 59, 70], [12, 47, 71]]\n"
     ]
    }
   ],
   "source": [
    "from random import randint\n",
    "\n",
    "[number for number in range(10)]\n",
    "\n",
    "n = 3\n",
    "matrix = [[randint(1, 100) for _ in range(n)] for _ in range(n)]\n",
    "\n",
    "print(matrix)"
   ],
   "metadata": {
    "collapsed": false,
    "pycharm": {
     "name": "#%%\n"
    }
   }
  },
  {
   "cell_type": "code",
   "execution_count": 6,
   "outputs": [
    {
     "name": "stdout",
     "output_type": "stream",
     "text": [
      "['olleh', 'dlrow']\n"
     ]
    }
   ],
   "source": [
    "words = [\"hello\", \"world\"]\n",
    "words_new = [word[::-1] for word in words]\n",
    "print(words_new)"
   ],
   "metadata": {
    "collapsed": false,
    "pycharm": {
     "name": "#%%\n"
    }
   }
  },
  {
   "cell_type": "markdown",
   "source": [
    "**Task 8-02**"
   ],
   "metadata": {
    "collapsed": false,
    "pycharm": {
     "name": "#%% md\n"
    }
   }
  },
  {
   "cell_type": "code",
   "execution_count": 8,
   "outputs": [
    {
     "name": "stdout",
     "output_type": "stream",
     "text": [
      "[{'name': 'BMW', 'no': 2, 'year': 2010}, {'name': 'BMW', 'no': 3, 'year': 2020}]\n"
     ]
    }
   ],
   "source": [
    "n = 2009\n",
    "cars = [\n",
    "    {\"name\": \"BMW\", \"no\": 1, \"year\": 2000},\n",
    "    {\"name\": \"BMW\", \"no\": 2, \"year\": 2010},\n",
    "    {\"name\": \"BMW\", \"no\": 3, \"year\": 2020},\n",
    "]\n",
    "\n",
    "new_cars = [car for car in cars if car[\"year\"] > n]\n",
    "\n",
    "print(new_cars)"
   ],
   "metadata": {
    "collapsed": false,
    "pycharm": {
     "name": "#%%\n"
    }
   }
  },
  {
   "cell_type": "markdown",
   "source": [
    "**Task 8-03**"
   ],
   "metadata": {
    "collapsed": false
   }
  },
  {
   "cell_type": "code",
   "execution_count": 9,
   "outputs": [
    {
     "name": "stdout",
     "output_type": "stream",
     "text": [
      "{'2000': 'year', 'UK': 'country', 'Zeka Zekov': 'name'}\n"
     ]
    }
   ],
   "source": [
    "old_dict = {'year': \"2000\", 'country': \"UK\", 'name': \"Zeka Zekov\"}\n",
    "new_dict = {value: key for key, value in old_dict.items()}\n",
    "\n",
    "print(new_dict)"
   ],
   "metadata": {
    "collapsed": false,
    "pycharm": {
     "name": "#%%\n"
    }
   }
  },
  {
   "cell_type": "markdown",
   "source": [
    "**Task 8-04**"
   ],
   "metadata": {
    "collapsed": false
   }
  },
  {
   "cell_type": "code",
   "execution_count": 17,
   "outputs": [
    {
     "name": "stdout",
     "output_type": "stream",
     "text": [
      "{1: 1, 2: 2, 10: 2, 9: 1, 4: 2, 5: 2, 3: 8, 0: 1}\n"
     ]
    }
   ],
   "source": [
    "def count_numbers(data):\n",
    "    counter = {}\n",
    "    for number in data:\n",
    "        if number in counter:\n",
    "            counter[number] += 1  # увеличиваем количество повторений\n",
    "        else:\n",
    "            counter[number] = 1 # инициализируеем элемент как новый\n",
    "    return counter\n",
    "\n",
    "init_data = [1, 2, 10, 9, 10, 2, 4, 4, 5, 5, 3, 3, 3, 3, 3, 3, 3, 3, 0]\n",
    "\n",
    "print(count_numbers(init_data))"
   ],
   "metadata": {
    "collapsed": false,
    "pycharm": {
     "name": "#%%\n"
    }
   }
  },
  {
   "cell_type": "markdown",
   "source": [
    "**Task 8-05**\n"
   ],
   "metadata": {
    "collapsed": false
   }
  },
  {
   "cell_type": "code",
   "execution_count": 22,
   "outputs": [
    {
     "name": "stdout",
     "output_type": "stream",
     "text": [
      "23.029534268089108\n"
     ]
    }
   ],
   "source": [
    "def x(a, b, c):\n",
    "    return 0.5 * ((a ** 0.5 + a) + (b ** 0.5 + b) + (c ** 0.5 + c))\n",
    "\n",
    "print(x(5, 12, 19))"
   ],
   "metadata": {
    "collapsed": false,
    "pycharm": {
     "name": "#%%\n"
    }
   }
  },
  {
   "cell_type": "markdown",
   "source": [
    "**Task 8-07**"
   ],
   "metadata": {
    "collapsed": false,
    "pycharm": {
     "name": "#%% md\n"
    }
   }
  },
  {
   "cell_type": "code",
   "execution_count": 29,
   "outputs": [
    {
     "name": "stdout",
     "output_type": "stream",
     "text": [
      "1\n"
     ]
    }
   ],
   "source": [
    "from math import log\n",
    "\n",
    "def is_power_n(k, n):\n",
    "    return log(k, n) % 1 == 0\n",
    "\n",
    "N = 3\n",
    "power_cnt = 0\n",
    "k = [10, 2, 10, 9, 10, 2, 4, 4, 5, 5]\n",
    "\n",
    "for power in k:\n",
    "    power_cnt += int(is_power_n(power, N))\n",
    "\n",
    "print(power_cnt)"
   ],
   "metadata": {
    "collapsed": false,
    "pycharm": {
     "name": "#%%\n"
    }
   }
  },
  {
   "cell_type": "markdown",
   "source": [
    "**Task 8-08**"
   ],
   "metadata": {
    "collapsed": false,
    "pycharm": {
     "name": "#%% md\n"
    }
   }
  },
  {
   "cell_type": "code",
   "execution_count": 20,
   "outputs": [
    {
     "name": "stdout",
     "output_type": "stream",
     "text": [
      "Summ of positives: 30\n",
      "Summ of negatives: -42\n"
     ]
    }
   ],
   "source": [
    "A = [1, -10, 20, -32, 6, 3]\n",
    "\n",
    "positive_numbers = [elem for elem in A if elem >= 0]\n",
    "negative_numbers = [elem for elem in A if elem < 0]\n",
    "\n",
    "print(f\"Summ of positives: {sum(positive_numbers)}\\nSumm of negatives: {sum(negative_numbers)}\")\n"
   ],
   "metadata": {
    "collapsed": false,
    "pycharm": {
     "name": "#%%\n"
    }
   }
  }
 ],
 "metadata": {
  "kernelspec": {
   "name": "python3",
   "language": "python",
   "display_name": "Python 3"
  },
  "language_info": {
   "codemirror_mode": {
    "name": "ipython",
    "version": 2
   },
   "file_extension": ".py",
   "mimetype": "text/x-python",
   "name": "python",
   "nbconvert_exporter": "python",
   "pygments_lexer": "ipython2",
   "version": "2.7.6"
  }
 },
 "nbformat": 4,
 "nbformat_minor": 0
}