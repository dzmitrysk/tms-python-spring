{
 "cells": [
  {
   "cell_type": "markdown",
   "metadata": {
    "collapsed": true,
    "pycharm": {
     "name": "#%% md\n"
    }
   },
   "source": [
    "# Lesson 12"
   ]
  },
  {
   "cell_type": "markdown",
   "source": [
    "## Task 12-1"
   ],
   "metadata": {
    "collapsed": false,
    "pycharm": {
     "name": "#%% md\n"
    }
   }
  },
  {
   "cell_type": "code",
   "execution_count": 2,
   "outputs": [],
   "source": [
    "class Dog:\n",
    "    pass"
   ],
   "metadata": {
    "collapsed": false,
    "pycharm": {
     "name": "#%%\n"
    }
   }
  },
  {
   "cell_type": "markdown",
   "source": [
    "## Task 12-2"
   ],
   "metadata": {
    "collapsed": false,
    "pycharm": {
     "name": "#%% md\n"
    }
   }
  },
  {
   "cell_type": "code",
   "execution_count": 17,
   "outputs": [
    {
     "name": "stdout",
     "output_type": "stream",
     "text": [
      "<__main__.Dog object at 0x000001F51807EDF0>\n",
      "<__main__.Dog object at 0x000001F51807EB80>\n",
      "False, False\n"
     ]
    }
   ],
   "source": [
    "dog = Dog()\n",
    "\n",
    "dog1 = Dog()\n",
    "dog2 = Dog()\n",
    "\n",
    "print(dog1)\n",
    "print(dog2)\n",
    "\n",
    "print(f\"{dog1 == dog2}, {dog1 is dog2}\")"
   ],
   "metadata": {
    "collapsed": false,
    "pycharm": {
     "name": "#%%\n"
    }
   }
  },
  {
   "cell_type": "markdown",
   "source": [
    "## Task 12-3"
   ],
   "metadata": {
    "collapsed": false,
    "pycharm": {
     "name": "#%% md\n"
    }
   }
  },
  {
   "cell_type": "code",
   "execution_count": 26,
   "outputs": [
    {
     "name": "stdout",
     "output_type": "stream",
     "text": [
      "Woof woof!!!\n",
      "Jump!\n",
      "Run!\n"
     ]
    }
   ],
   "source": [
    "class Dog:\n",
    "    def bark(self):\n",
    "        print(\"Woof woof!!!\")\n",
    "\n",
    "    def jump(self):\n",
    "        print(\"Jump!\")\n",
    "\n",
    "    def run(self):\n",
    "        print(\"Run!\")\n",
    "\n",
    "dog_1 = Dog()\n",
    "dog_1.bark()\n",
    "dog_1.jump()\n",
    "dog_1.run()"
   ],
   "metadata": {
    "collapsed": false,
    "pycharm": {
     "name": "#%%\n"
    }
   }
  },
  {
   "cell_type": "markdown",
   "source": [
    "## Task 12-4"
   ],
   "metadata": {
    "collapsed": false,
    "pycharm": {
     "name": "#%% md\n"
    }
   }
  },
  {
   "cell_type": "code",
   "execution_count": 36,
   "outputs": [
    {
     "name": "stdout",
     "output_type": "stream",
     "text": [
      "Woof woof!!!\n",
      "Jump!\n",
      "Run!\n",
      "Height 20\n",
      "Weight 10\n",
      "Name Bob\n",
      "Age 7\n"
     ]
    }
   ],
   "source": [
    "class Dog:\n",
    "    def __init__(self, height, weight, name, age):\n",
    "        self.height = height\n",
    "        self.weight = weight\n",
    "        self.name = name\n",
    "        self.age = age\n",
    "\n",
    "    def bark(self):\n",
    "        print(\"Woof woof!!!\")\n",
    "\n",
    "    def jump(self):\n",
    "        print(\"Jump!\")\n",
    "\n",
    "    def run(self):\n",
    "        print(\"Run!\")\n",
    "\n",
    "dog = Dog(20, 10, \"Bob\", 7)\n",
    "dog.bark()\n",
    "dog.jump()\n",
    "dog.run()\n",
    "\n",
    "print(f\"Height {dog.height}\")\n",
    "print(f\"Weight {dog.weight}\")\n",
    "print(f\"Name {dog.name}\")\n",
    "print(f\"Age {dog.age}\")\n"
   ],
   "metadata": {
    "collapsed": false,
    "pycharm": {
     "name": "#%%\n"
    }
   }
  },
  {
   "cell_type": "markdown",
   "source": [
    "## Task 12-5"
   ],
   "metadata": {
    "collapsed": false,
    "pycharm": {
     "name": "#%% md\n"
    }
   }
  },
  {
   "cell_type": "code",
   "execution_count": 38,
   "outputs": [
    {
     "name": "stdout",
     "output_type": "stream",
     "text": [
      "Name: Bob\n",
      "New name: Rex\n"
     ]
    }
   ],
   "source": [
    "class Dog:\n",
    "    def __init__(self, height, weight, name, age):\n",
    "        self.height = height\n",
    "        self.weight = weight\n",
    "        self.name = name\n",
    "        self.age = age\n",
    "\n",
    "    def change_name(self, name):\n",
    "        self.name = name\n",
    "\n",
    "    def bark(self):\n",
    "        print(\"Woof woof!!!\")\n",
    "\n",
    "    def jump(self):\n",
    "        print(\"Jump!\")\n",
    "\n",
    "    def run(self):\n",
    "        print(\"Run!\")\n",
    "\n",
    "dog = Dog(20, 10, \"Bob\", 7)\n",
    "print(f\"Name: {dog.name}\")\n",
    "\n",
    "dog.change_name(\"Rex\")\n",
    "print(f\"New name: {dog.name}\")"
   ],
   "metadata": {
    "collapsed": false,
    "pycharm": {
     "name": "#%%\n"
    }
   }
  },
  {
   "cell_type": "markdown",
   "source": [
    "## Task 12-6"
   ],
   "metadata": {
    "collapsed": false
   }
  },
  {
   "cell_type": "code",
   "execution_count": 61,
   "outputs": [
    {
     "name": "stdout",
     "output_type": "stream",
     "text": [
      "Name: Charlie\n",
      "Name: Charlie\n"
     ]
    }
   ],
   "source": [
    "class Dog:\n",
    "    def __init__(self, name):\n",
    "        self.__name = name\n",
    "\n",
    "    def get_name(self):\n",
    "        return self.__name\n",
    "\n",
    "dog = Dog(\"Charlie\")\n",
    "print(f\"Name: {dog.get_name()}\")\n",
    "\n",
    "print(f\"Name: {dog._Dog__name}\")"
   ],
   "metadata": {
    "collapsed": false,
    "pycharm": {
     "name": "#%%\n"
    }
   }
  },
  {
   "cell_type": "markdown",
   "source": [
    "## Task 12-7"
   ],
   "metadata": {
    "collapsed": false
   }
  },
  {
   "cell_type": "code",
   "execution_count": 77,
   "outputs": [
    {
     "name": "stdout",
     "output_type": "stream",
     "text": [
      "Minsk\n",
      "Moscow\n",
      "Brest\n"
     ]
    },
    {
     "data": {
      "text/plain": "['_Dog__city',\n '_Dog__name',\n '__class__',\n '__delattr__',\n '__dict__',\n '__dir__',\n '__doc__',\n '__eq__',\n '__format__',\n '__ge__',\n '__getattribute__',\n '__gt__',\n '__hash__',\n '__init__',\n '__init_subclass__',\n '__le__',\n '__lt__',\n '__module__',\n '__ne__',\n '__new__',\n '__reduce__',\n '__reduce_ex__',\n '__repr__',\n '__setattr__',\n '__sizeof__',\n '__str__',\n '__subclasshook__',\n '__weakref__',\n 'get_city',\n 'get_name',\n 'set_city']"
     },
     "execution_count": 77,
     "metadata": {},
     "output_type": "execute_result"
    }
   ],
   "source": [
    "class Dog:\n",
    "    def __init__(self, name, city=\"Minsk\"):\n",
    "        self.__name = name\n",
    "        self.__city = city\n",
    "\n",
    "    def get_name(self):\n",
    "        return self.__name\n",
    "\n",
    "    def set_city(self, city):\n",
    "        self.__city = city\n",
    "\n",
    "    def get_city(self):\n",
    "        return self.__city\n",
    "\n",
    "\n",
    "dog = Dog(\"Charlie\")\n",
    "dog_1 = Dog(\"Rex\", \"Brest\")\n",
    "\n",
    "print(dog.get_city())\n",
    "dog.set_city(\"Moscow\")\n",
    "print(dog.get_city())\n",
    "\n",
    "print(dog_1.get_city())\n",
    "\n",
    "dir(dog)"
   ],
   "metadata": {
    "collapsed": false,
    "pycharm": {
     "name": "#%%\n"
    }
   }
  },
  {
   "cell_type": "markdown",
   "source": [
    "## Task 12-8\n",
    "Сделать все атрибуты класса Dog приватными. <br>\n",
    "Сделать для каждого атрибута getter и setter используя декораторы.<br>\n",
    "Все change методы удалить"
   ],
   "metadata": {
    "collapsed": false
   }
  },
  {
   "cell_type": "code",
   "execution_count": 87,
   "outputs": [
    {
     "name": "stdout",
     "output_type": "stream",
     "text": [
      "Bob\n",
      "2.4\n",
      "8\n",
      "10\n"
     ]
    },
    {
     "data": {
      "text/plain": "['_Dog__age',\n '_Dog__height',\n '_Dog__name',\n '_Dog__weight',\n '__class__',\n '__delattr__',\n '__dict__',\n '__dir__',\n '__doc__',\n '__eq__',\n '__format__',\n '__ge__',\n '__getattribute__',\n '__gt__',\n '__hash__',\n '__init__',\n '__init_subclass__',\n '__le__',\n '__lt__',\n '__module__',\n '__ne__',\n '__new__',\n '__reduce__',\n '__reduce_ex__',\n '__repr__',\n '__setattr__',\n '__sizeof__',\n '__str__',\n '__subclasshook__',\n '__weakref__',\n 'age',\n 'height',\n 'name',\n 'other',\n 'weight']"
     },
     "execution_count": 87,
     "metadata": {},
     "output_type": "execute_result"
    }
   ],
   "source": [
    "class Dog:\n",
    "    def __init__(self, name, height, weight, age):\n",
    "        self.__height = height\n",
    "        self.__weight = weight\n",
    "        self.__name = name\n",
    "        self.__age = age\n",
    "\n",
    "    @property\n",
    "    def name(self):\n",
    "        return self.__name\n",
    "\n",
    "    @name.setter\n",
    "    def name(self, name):\n",
    "        self.__name = name\n",
    "\n",
    "    @property\n",
    "    def height(self):\n",
    "        return self.__height\n",
    "\n",
    "    @height.setter\n",
    "    def height(self, height):\n",
    "        self.__height = height\n",
    "\n",
    "    @property\n",
    "    def weight(self):\n",
    "        return self.__weight\n",
    "\n",
    "    @weight.setter\n",
    "    def weight(self, weight):\n",
    "        self.__weight = weight\n",
    "\n",
    "    @property\n",
    "    def age(self):\n",
    "        return self.__age\n",
    "\n",
    "    @age.setter\n",
    "    def age(self, age):\n",
    "        self.__age = age\n",
    "\n",
    "    @property\n",
    "    def other(self):\n",
    "       pass\n",
    "\n",
    "    @other.setter\n",
    "    def other(self):\n",
    "        pass\n",
    "\n",
    "\n",
    "\n",
    "dog5 = Dog('Bob', 8, 2.4, 10)\n",
    "print(dog5.name)\n",
    "print(dog5.weight)\n",
    "print(dog5.height)\n",
    "print(dog5.age)\n",
    "\n",
    "dir(dog5)"
   ],
   "metadata": {
    "collapsed": false,
    "pycharm": {
     "name": "#%%\n"
    }
   }
  }
 ],
 "metadata": {
  "kernelspec": {
   "display_name": "Python 3",
   "language": "python",
   "name": "python3"
  },
  "language_info": {
   "codemirror_mode": {
    "name": "ipython",
    "version": 2
   },
   "file_extension": ".py",
   "mimetype": "text/x-python",
   "name": "python",
   "nbconvert_exporter": "python",
   "pygments_lexer": "ipython2",
   "version": "2.7.6"
  }
 },
 "nbformat": 4,
 "nbformat_minor": 0
}