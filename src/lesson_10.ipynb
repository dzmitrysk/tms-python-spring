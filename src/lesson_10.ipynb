{
 "cells": [
  {
   "cell_type": "markdown",
   "source": [
    "## **Task 10-01**\n",
    "\n",
    "Имеется текстовый файл.<br> Напечатать:\n",
    "\n",
    "- a) его первую строку;\n",
    "- b) его пятую строку;\n",
    "- c) его первые 5 строк;\n",
    "- d) его строки с s1-й по s2-ю;\n",
    "- e) весь файл."
   ],
   "metadata": {
    "collapsed": false
   }
  },
  {
   "cell_type": "code",
   "execution_count": 6,
   "outputs": [
    {
     "name": "stdout",
     "output_type": "stream",
     "text": [
      "Dear Zeka,\n",
      "\n"
     ]
    }
   ],
   "source": [
    "# 10.01.a\n",
    "\n",
    "with open('task1.txt', 'r') as fin:\n",
    "    print(fin.readline())"
   ],
   "metadata": {
    "collapsed": false,
    "pycharm": {
     "name": "#%%\n"
    }
   }
  },
  {
   "cell_type": "code",
   "execution_count": 7,
   "outputs": [
    {
     "name": "stdout",
     "output_type": "stream",
     "text": [
      "And nice\n",
      "\n"
     ]
    }
   ],
   "source": [
    "# 10.01.b\n",
    "\n",
    "with open('task1.txt', 'r') as fin:\n",
    "    print(fin.readlines()[4])"
   ],
   "metadata": {
    "collapsed": false,
    "pycharm": {
     "name": "#%%\n"
    }
   }
  },
  {
   "cell_type": "code",
   "execution_count": 8,
   "outputs": [
    {
     "name": "stdout",
     "output_type": "stream",
     "text": [
      "Dear Zeka,\n",
      "\n",
      "I am from USA\n",
      "\n",
      "I like food\n",
      "\n",
      "You are good\n",
      "\n"
     ]
    }
   ],
   "source": [
    "# 10.01.c\n",
    "\n",
    "with open('task1.txt', 'r') as fin:\n",
    "    for string in fin.readlines()[:4]:\n",
    "        print(string)"
   ],
   "metadata": {
    "collapsed": false,
    "pycharm": {
     "name": "#%%\n"
    }
   }
  },
  {
   "cell_type": "code",
   "execution_count": 9,
   "outputs": [
    {
     "name": "stdout",
     "output_type": "stream",
     "text": [
      "You are good\n",
      "And nice\n",
      "How old are you?\n",
      "I like football\n",
      "Do you like it?\n",
      "Cool!!!!!\n",
      "Superrrrrrrrr:)\n"
     ]
    }
   ],
   "source": [
    "# 10.01.d\n",
    "\n",
    "s1 = 3\n",
    "s2 = 10\n",
    "with open('task1.txt', 'r') as fin:\n",
    "    for string in fin.readlines()[s1:s2]:\n",
    "        print(string, end=\"\")"
   ],
   "metadata": {
    "collapsed": false,
    "pycharm": {
     "name": "#%%\n"
    }
   }
  },
  {
   "cell_type": "code",
   "execution_count": 10,
   "outputs": [
    {
     "name": "stdout",
     "output_type": "stream",
     "text": [
      "Dear Zeka,\n",
      "I am from USA\n",
      "I like food\n",
      "You are good\n",
      "And nice\n",
      "How old are you?\n",
      "I like football\n",
      "Do you like it?\n",
      "Cool!!!!!\n",
      "Superrrrrrrrr:)\n",
      "Wow\n",
      "Music bad\n"
     ]
    }
   ],
   "source": [
    "# 10.01.e\n",
    "\n",
    "s1 = 3\n",
    "s2 = 10\n",
    "with open('task1.txt', 'r') as fin:\n",
    "    print(fin.read())"
   ],
   "metadata": {
    "collapsed": false,
    "pycharm": {
     "name": "#%%\n"
    }
   }
  }
 ],
 "metadata": {
  "kernelspec": {
   "display_name": "Python 3",
   "language": "python",
   "name": "python3"
  },
  "language_info": {
   "codemirror_mode": {
    "name": "ipython",
    "version": 2
   },
   "file_extension": ".py",
   "mimetype": "text/x-python",
   "name": "python",
   "nbconvert_exporter": "python",
   "pygments_lexer": "ipython2",
   "version": "2.7.6"
  }
 },
 "nbformat": 4,
 "nbformat_minor": 0
}