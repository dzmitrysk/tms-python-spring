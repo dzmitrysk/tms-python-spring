{
 "cells": [
  {
   "cell_type": "code",
   "execution_count": 1,
   "metadata": {
    "collapsed": true
   },
   "outputs": [
    {
     "name": "stdout",
     "output_type": "stream",
     "text": [
      "Ints\n"
     ]
    }
   ],
   "source": [
    "args = [1, 2, 3, 4, 5, 6, 7, 111]\n",
    "if  all(type(arg) == int for arg in args):\n",
    "    print(\"Ints\")\n",
    "else:\n",
    "    print(\"not ints\")"
   ]
  },
  {
   "cell_type": "code",
   "execution_count": 2,
   "outputs": [
    {
     "name": "stdout",
     "output_type": "stream",
     "text": [
      "14:11:5\n",
      "10:10:36\n"
     ]
    }
   ],
   "source": [
    "def create_from_int(hours: int, minutes: int, seconds: int):\n",
    "    sec = seconds % 60\n",
    "    mn = (minutes + seconds // 60) % 60\n",
    "    hr = (hours + (minutes + seconds // 60) // 60) % 24\n",
    "\n",
    "    print(f\"{hr}:{mn}:{sec}\")\n",
    "\n",
    "create_from_int(13, 10, 3665)\n",
    "create_from_int(250, 10, 36)"
   ],
   "metadata": {
    "collapsed": false,
    "pycharm": {
     "name": "#%%\n"
    }
   }
  },
  {
   "cell_type": "code",
   "execution_count": 17,
   "outputs": [
    {
     "name": "stdout",
     "output_type": "stream",
     "text": [
      "244 2 11\n",
      "244 2 11\n",
      "244 2 11\n"
     ]
    },
    {
     "ename": "ValueError",
     "evalue": "Incompatible symbols in string.",
     "output_type": "error",
     "traceback": [
      "\u001B[1;31m---------------------------------------------------------------------------\u001B[0m",
      "\u001B[1;31mValueError\u001B[0m                                Traceback (most recent call last)",
      "\u001B[1;32m<ipython-input-17-cbf04624cac2>\u001B[0m in \u001B[0;36m<module>\u001B[1;34m\u001B[0m\n\u001B[0;32m     12\u001B[0m \u001B[0mcreate_from_str\u001B[0m\u001B[1;33m(\u001B[0m\u001B[1;34m\"244-02-11\"\u001B[0m\u001B[1;33m)\u001B[0m\u001B[1;33m\u001B[0m\u001B[1;33m\u001B[0m\u001B[0m\n\u001B[0;32m     13\u001B[0m \u001B[0mcreate_from_str\u001B[0m\u001B[1;33m(\u001B[0m\u001B[1;34m\"244.02.11\"\u001B[0m\u001B[1;33m)\u001B[0m\u001B[1;33m\u001B[0m\u001B[1;33m\u001B[0m\u001B[0m\n\u001B[1;32m---> 14\u001B[1;33m \u001B[0mcreate_from_str\u001B[0m\u001B[1;33m(\u001B[0m\u001B[1;34m\"244+02-11\"\u001B[0m\u001B[1;33m)\u001B[0m\u001B[1;33m\u001B[0m\u001B[1;33m\u001B[0m\u001B[0m\n\u001B[0m\u001B[0;32m     15\u001B[0m \u001B[1;33m\u001B[0m\u001B[0m\n",
      "\u001B[1;32m<ipython-input-17-cbf04624cac2>\u001B[0m in \u001B[0;36mcreate_from_str\u001B[1;34m(time_string)\u001B[0m\n\u001B[0;32m      6\u001B[0m             \u001B[1;32mbreak\u001B[0m\u001B[1;33m\u001B[0m\u001B[1;33m\u001B[0m\u001B[0m\n\u001B[0;32m      7\u001B[0m     \u001B[1;32melse\u001B[0m\u001B[1;33m:\u001B[0m\u001B[1;33m\u001B[0m\u001B[1;33m\u001B[0m\u001B[0m\n\u001B[1;32m----> 8\u001B[1;33m         \u001B[1;32mraise\u001B[0m \u001B[0mValueError\u001B[0m\u001B[1;33m(\u001B[0m\u001B[1;34m\"Incompatible symbols in string.\"\u001B[0m\u001B[1;33m)\u001B[0m\u001B[1;33m\u001B[0m\u001B[1;33m\u001B[0m\u001B[0m\n\u001B[0m\u001B[0;32m      9\u001B[0m     \u001B[0mprint\u001B[0m\u001B[1;33m(\u001B[0m\u001B[0mhours\u001B[0m\u001B[1;33m,\u001B[0m \u001B[0mminutes\u001B[0m\u001B[1;33m,\u001B[0m \u001B[0mseconds\u001B[0m\u001B[1;33m)\u001B[0m\u001B[1;33m\u001B[0m\u001B[1;33m\u001B[0m\u001B[0m\n\u001B[0;32m     10\u001B[0m \u001B[1;33m\u001B[0m\u001B[0m\n",
      "\u001B[1;31mValueError\u001B[0m: Incompatible symbols in string."
     ]
    }
   ],
   "source": [
    "def create_from_str(time_string: str):\n",
    "    delimiters = [\":\", \".\", \"-\"]\n",
    "    for delimiter in delimiters:\n",
    "        if time_string.replace(delimiter,\"\", 2).isdigit():\n",
    "            hours, minutes, seconds = (int(item) for item in time_string.split(delimiter))\n",
    "            break\n",
    "    else:\n",
    "        raise ValueError(\"Incompatible symbols in string.\")\n",
    "    print(hours, minutes, seconds)\n",
    "\n",
    "create_from_str(\"244:02:11\")\n",
    "create_from_str(\"244-02-11\")\n",
    "create_from_str(\"244.02.11\")\n",
    "create_from_str(\"244+02-11\")"
   ],
   "metadata": {
    "collapsed": false,
    "pycharm": {
     "name": "#%%\n"
    }
   }
  }
 ],
 "metadata": {
  "kernelspec": {
   "display_name": "Python 3",
   "language": "python",
   "name": "python3"
  },
  "language_info": {
   "codemirror_mode": {
    "name": "ipython",
    "version": 2
   },
   "file_extension": ".py",
   "mimetype": "text/x-python",
   "name": "python",
   "nbconvert_exporter": "python",
   "pygments_lexer": "ipython2",
   "version": "2.7.6"
  }
 },
 "nbformat": 4,
 "nbformat_minor": 0
}