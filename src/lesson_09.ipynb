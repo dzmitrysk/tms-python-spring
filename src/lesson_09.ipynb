{
 "cells": [
  {
   "cell_type": "markdown",
   "source": [
    "**Task 9-01**"
   ],
   "metadata": {
    "collapsed": false
   }
  },
  {
   "cell_type": "code",
   "execution_count": 3,
   "outputs": [
    {
     "name": "stdout",
     "output_type": "stream",
     "text": [
      "Hello, Mike\n",
      "Hello, Nick\n"
     ]
    }
   ],
   "source": [
    "hello = lambda name: f\"Hello, {name}\"\n",
    "\n",
    "print(hello(\"Mike\"))\n",
    "print(hello(\"Nick\"))"
   ],
   "metadata": {
    "collapsed": false,
    "pycharm": {
     "name": "#%%\n"
    }
   }
  },
  {
   "cell_type": "markdown",
   "source": [
    "**Task 9-02**"
   ],
   "metadata": {
    "collapsed": false
   }
  },
  {
   "cell_type": "code",
   "execution_count": 4,
   "outputs": [
    {
     "name": "stdout",
     "output_type": "stream",
     "text": [
      "['Hello, Ihar', 'Hello, Alex', 'Hello, Zeka']\n"
     ]
    }
   ],
   "source": [
    "NAMES = [\"Ihar\", \"Alex\", \"Zeka\"]\n",
    "\n",
    "hello = lambda names: [f\"Hello, {name}\" for name in names]\n",
    "print(hello(NAMES))"
   ],
   "metadata": {
    "collapsed": false,
    "pycharm": {
     "name": "#%%\n"
    }
   }
  },
  {
   "cell_type": "markdown",
   "source": [
    "**Task 9-03**"
   ],
   "metadata": {
    "collapsed": false
   }
  },
  {
   "cell_type": "code",
   "execution_count": 11,
   "outputs": [
    {
     "name": "stdout",
     "output_type": "stream",
     "text": [
      "['5', '3']\n"
     ]
    }
   ],
   "source": [
    "array = [5, 3]\n",
    "\n",
    "result = list(map(str, array))\n",
    "print(result)"
   ],
   "metadata": {
    "collapsed": false,
    "pycharm": {
     "name": "#%%\n"
    }
   }
  },
  {
   "cell_type": "markdown",
   "source": [
    "**Task9-04**"
   ],
   "metadata": {
    "collapsed": false
   }
  },
  {
   "cell_type": "code",
   "execution_count": 15,
   "outputs": [
    {
     "name": "stdout",
     "output_type": "stream",
     "text": [
      "['Zeka', 'Nikolai']\n"
     ]
    }
   ],
   "source": [
    "names = [\"Ihar\", \"Zeka\", \"Kostya\", \"Petr\", \"Nikolai\"]\n",
    "\n",
    "result = list(filter(lambda name: \"k\" in name, names))\n",
    "print(result)"
   ],
   "metadata": {
    "collapsed": false,
    "pycharm": {
     "name": "#%%\n"
    }
   }
  },
  {
   "cell_type": "markdown",
   "source": [
    "**Task 9-05**"
   ],
   "metadata": {
    "collapsed": false,
    "pycharm": {
     "name": "#%% md\n"
    }
   }
  },
  {
   "cell_type": "code",
   "execution_count": 16,
   "outputs": [
    {
     "name": "stdout",
     "output_type": "stream",
     "text": [
      "[3, 6, 9]\n",
      "162\n"
     ]
    }
   ],
   "source": [
    "from functools import reduce\n",
    "\n",
    "init_data = [1, 2, 3, 4, 5, 6, 7, 8, 9, 10]\n",
    "\n",
    "filtred_data = list(filter(lambda n: n % 3 == 0, init_data))\n",
    "print(filtred_data)\n",
    "\n",
    "product = reduce(lambda n_prev, n: n_prev * n, filtred_data)\n",
    "print(product)\n"
   ],
   "metadata": {
    "collapsed": false,
    "pycharm": {
     "name": "#%%\n"
    }
   }
  },
  {
   "cell_type": "markdown",
   "source": [
    "**Task 9-06**"
   ],
   "metadata": {
    "collapsed": false
   }
  },
  {
   "cell_type": "code",
   "execution_count": 24,
   "outputs": [
    {
     "name": "stdout",
     "output_type": "stream",
     "text": [
      "[3, 6, 9]\n",
      "162\n",
      "997\n"
     ]
    }
   ],
   "source": [
    "from datetime import datetime\n",
    "from functools import reduce\n",
    "from time import sleep\n",
    "\n",
    "def time_checker(real_func):\n",
    "    def wrapper(*args,**kwargs):\n",
    "        time_start = datetime.now()\n",
    "        real_func(*args, **kwargs)\n",
    "        print((datetime.now() - time_start).microseconds)\n",
    "    return wrapper\n",
    "\n",
    "@time_checker\n",
    "def my_func():\n",
    "    init_data = [1, 2, 3, 4, 5, 6, 7, 8, 9, 10]\n",
    "\n",
    "    filtred_data = list(filter(lambda n: n % 3 == 0, init_data))\n",
    "    print(filtred_data)\n",
    "\n",
    "    product = reduce(lambda n_prev, n: n_prev * n, filtred_data)\n",
    "    print(product)\n",
    "    #sleep((0.25))\n",
    "\n",
    "my_func()\n"
   ],
   "metadata": {
    "collapsed": false,
    "pycharm": {
     "name": "#%%\n"
    }
   }
  }
 ],
 "metadata": {
  "kernelspec": {
   "display_name": "Python 3",
   "language": "python",
   "name": "python3"
  },
  "language_info": {
   "codemirror_mode": {
    "name": "ipython",
    "version": 2
   },
   "file_extension": ".py",
   "mimetype": "text/x-python",
   "name": "python",
   "nbconvert_exporter": "python",
   "pygments_lexer": "ipython2",
   "version": "2.7.6"
  }
 },
 "nbformat": 4,
 "nbformat_minor": 0
}