{
 "cells": [
  {
   "cell_type": "markdown",
   "metadata": {
    "collapsed": true,
    "pycharm": {
     "name": "#%% md\n"
    }
   },
   "source": [
    "# <u> Lesson 13 </u>\n",
    "### Объектно-ориентированное программирование (ООП) (Часть 2)"
   ]
  },
  {
   "cell_type": "markdown",
   "source": [
    "## Task 12-01\n",
    "Переопределить методы change_weight, change_height в классе Parrot.\n",
    "В случае не передачи параметра - вес изменяется на 0.05"
   ],
   "metadata": {
    "collapsed": false,
    "pycharm": {
     "name": "#%% md\n"
    }
   }
  },
  {
   "cell_type": "code",
   "execution_count": 11,
   "outputs": [
    {
     "name": "stdout",
     "output_type": "stream",
     "text": [
      "14\n",
      "14.05\n",
      "7\n",
      "7.05\n"
     ]
    },
    {
     "data": {
      "text/plain": "['__class__',\n '__delattr__',\n '__dict__',\n '__dir__',\n '__doc__',\n '__eq__',\n '__format__',\n '__ge__',\n '__getattribute__',\n '__gt__',\n '__hash__',\n '__init__',\n '__init_subclass__',\n '__le__',\n '__lt__',\n '__module__',\n '__ne__',\n '__new__',\n '__reduce__',\n '__reduce_ex__',\n '__repr__',\n '__setattr__',\n '__sizeof__',\n '__str__',\n '__subclasshook__',\n '__weakref__',\n 'change_height',\n 'change_weight',\n 'height',\n 'weight']"
     },
     "execution_count": 11,
     "metadata": {},
     "output_type": "execute_result"
    }
   ],
   "source": [
    "class Animal:\n",
    "\n",
    "    def __init__(self, weight, height):\n",
    "        self.weight = weight\n",
    "        self.height = height\n",
    "\n",
    "    def change_weight(self, weight):\n",
    "        pass\n",
    "\n",
    "    def change_height(self, height):\n",
    "        pass\n",
    "\n",
    "class Parrot(Animal):\n",
    "    def change_weight(self, weight=0.05):\n",
    "        self.weight += weight\n",
    "\n",
    "    def change_height(self, height=0.05):\n",
    "        self.height += height\n",
    "\n",
    "p = Parrot(10, 3)\n",
    "p.change_weight(4)\n",
    "print(p.weight)\n",
    "\n",
    "p.change_weight()\n",
    "print(p.weight)\n",
    "\n",
    "p.change_height(4)\n",
    "print(p.height)\n",
    "\n",
    "p.change_height()\n",
    "print(p.height)\n",
    "\n",
    "Parrot.mro()\n"
   ],
   "metadata": {
    "collapsed": false,
    "pycharm": {
     "name": "#%%\n"
    }
   }
  },
  {
   "cell_type": "markdown",
   "source": [
    "## Task 12-02\n",
    "Добавить метод jump, принимающий высоту прыжка. Метод выводит сообщение “Jump X meters”\n",
    "\n",
    "Переопределить метод jump в дочерних классах.\n",
    "Если передать методу jump класса dog значение больше 0.5,\n",
    "выводить сообщение “Dogs cannot jump so high, аналогично для кошек(2),\n",
    "для попугаев(0.05)"
   ],
   "metadata": {
    "collapsed": false,
    "pycharm": {
     "name": "#%% md\n"
    }
   }
  },
  {
   "cell_type": "code",
   "execution_count": 14,
   "outputs": [
    {
     "name": "stdout",
     "output_type": "stream",
     "text": [
      "Jump 1 meters\n",
      "Dogs cannot jump so high\n",
      "Jump 1 meters\n",
      "Jump 0.04 meters\n"
     ]
    }
   ],
   "source": [
    "class Pet:\n",
    "    def jump(self, meters):\n",
    "        print(f\"Jump {meters} meters\")\n",
    "\n",
    "\n",
    "class Dog(Pet):\n",
    "    def jump(self, meters):\n",
    "        if meters > 0.5:\n",
    "            print(\"Dogs cannot jump so high\")\n",
    "        else:\n",
    "            super().jump(meters)\n",
    "\n",
    "\n",
    "class Cat(Pet):\n",
    "    def jump(self, meters):\n",
    "        if meters > 2:\n",
    "            print(\"Cats cannot jump so high\")\n",
    "        else:\n",
    "            super().jump(meters)\n",
    "\n",
    "\n",
    "class Parrot(Pet):\n",
    "    def jump(self, meters):\n",
    "        if meters > 0.05:\n",
    "            print(\"Parrot cannot jump so high\")\n",
    "        else:\n",
    "            super().jump(meters)\n",
    "\n",
    "pet = Pet()\n",
    "pet.jump(1)\n",
    "\n",
    "dog = Dog()\n",
    "dog.jump(10)\n",
    "\n",
    "cat = Cat()\n",
    "cat.jump(1)\n",
    "\n",
    "parrot = Parrot()\n",
    "parrot.jump(0.04)"
   ],
   "metadata": {
    "collapsed": false,
    "pycharm": {
     "name": "#%%\n"
    }
   }
  },
  {
   "cell_type": "markdown",
   "source": [
    "## Task 12-3\n",
    "Добавить в класс Parrot новый атрибут - species\n"
   ],
   "metadata": {
    "collapsed": false
   }
  },
  {
   "cell_type": "code",
   "execution_count": 15,
   "outputs": [
    {
     "name": "stdout",
     "output_type": "stream",
     "text": [
      "1\n"
     ]
    }
   ],
   "source": [
    "class Parrot(Pet):\n",
    "    def __init__(self, species):\n",
    "        self.species = species\n",
    "\n",
    "parrot = Parrot(1)\n",
    "print(parrot.species)"
   ],
   "metadata": {
    "collapsed": false,
    "pycharm": {
     "name": "#%%\n"
    }
   }
  },
  {
   "cell_type": "markdown",
   "source": [
    "## Task 12-4\n",
    "Добавить в класс Pet пустой метод voice.\n",
    "Заменить имена методов bark, meow на voice.\n",
    "Добавить voice для класса Parrot.\n",
    "Создать функцию, принимающая список животных и вызывающая у каждого животного метод voice."
   ],
   "metadata": {
    "collapsed": false
   }
  },
  {
   "cell_type": "code",
   "execution_count": 19,
   "outputs": [
    {
     "name": "stdout",
     "output_type": "stream",
     "text": [
      "Гав Гав\n",
      "Мяу\n",
      "Гав Гав\n",
      "Мяу\n"
     ]
    }
   ],
   "source": [
    "class Pet:\n",
    "    VOICE = None\n",
    "\n",
    "    def voice(self):\n",
    "        print(self.VOICE)\n",
    "\n",
    "class Dog(Pet):\n",
    "    VOICE = \"Гав Гав\"\n",
    "\n",
    "class Cat(Pet):\n",
    "    VOICE = \"Мяу\"\n",
    "\n",
    "def voices(animals):\n",
    "    for animal in animals:\n",
    "        animal.voice()\n",
    "\n",
    "voices([Dog(), Cat(), Dog(), Cat()])"
   ],
   "metadata": {
    "collapsed": false,
    "pycharm": {
     "name": "#%%\n"
    }
   }
  }
 ],
 "metadata": {
  "kernelspec": {
   "display_name": "Python 3",
   "language": "python",
   "name": "python3"
  },
  "language_info": {
   "codemirror_mode": {
    "name": "ipython",
    "version": 2
   },
   "file_extension": ".py",
   "mimetype": "text/x-python",
   "name": "python",
   "nbconvert_exporter": "python",
   "pygments_lexer": "ipython2",
   "version": "2.7.6"
  }
 },
 "nbformat": 4,
 "nbformat_minor": 0
}