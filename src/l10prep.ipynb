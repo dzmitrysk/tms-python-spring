{
 "cells": [
  {
   "cell_type": "markdown",
   "metadata": {
    "collapsed": true,
    "pycharm": {
     "name": "#%% md\n"
    }
   },
   "source": [
    "## **Task 10-01**\n",
    "\n",
    "Имеется текстовый файл.<br> Напечатать:\n",
    "\n",
    "- a) его первую строку;\n",
    "- b) его пятую строку;\n",
    "- c) его первые 5 строк;\n",
    "- d) его строки с s1-й по s2-ю;\n",
    "- e) весь файл."
   ]
  },
  {
   "cell_type": "code",
   "execution_count": 9,
   "outputs": [
    {
     "name": "stdout",
     "output_type": "stream",
     "text": [
      "Dear Zeka,\n",
      "\n",
      "And nice\n",
      "\n",
      "Dear Zeka,\n",
      "\n",
      "I am from USA\n",
      "\n",
      "I like food\n",
      "\n",
      "You are good\n",
      "\n"
     ]
    }
   ],
   "source": [
    "# 10.01.a\n",
    "\n",
    "with open('task1.txt', 'r') as fin:\n",
    "    print(fin.readline())"
   ],
   "metadata": {
    "collapsed": false,
    "pycharm": {
     "name": "#%%\n"
    }
   }
  },
  {
   "cell_type": "code",
   "execution_count": 10,
   "outputs": [
    {
     "name": "stdout",
     "output_type": "stream",
     "text": [
      "And nice\n",
      "\n"
     ]
    }
   ],
   "source": [
    "# 10.01.b\n",
    "\n",
    "with open('task1.txt', 'r') as fin:\n",
    "    print(fin.readlines()[4])"
   ],
   "metadata": {
    "collapsed": false,
    "pycharm": {
     "name": "#%%\n"
    }
   }
  },
  {
   "cell_type": "code",
   "execution_count": 11,
   "outputs": [
    {
     "name": "stdout",
     "output_type": "stream",
     "text": [
      "Dear Zeka,\n",
      "\n",
      "I am from USA\n",
      "\n",
      "I like food\n",
      "\n",
      "You are good\n",
      "\n"
     ]
    }
   ],
   "source": [
    "# 10.01.c\n",
    "\n",
    "with open('task1.txt', 'r') as fin:\n",
    "    for string in fin.readlines()[:4]:\n",
    "        print(string)"
   ],
   "metadata": {
    "collapsed": false,
    "pycharm": {
     "name": "#%%\n"
    }
   }
  },
  {
   "cell_type": "code",
   "execution_count": 84,
   "outputs": [
    {
     "name": "stdout",
     "output_type": "stream",
     "text": [
      "You are good\n",
      "And nice\n",
      "How old are you?\n",
      "I like football\n",
      "Do you like it?\n",
      "Cool!!!!!\n",
      "Superrrrrrrrr:)\n"
     ]
    }
   ],
   "source": [
    "# 10.01.d\n",
    "\n",
    "s1 = 3\n",
    "s2 = 10\n",
    "with open('task1.txt', 'r') as fin:\n",
    "    for string in fin.readlines()[s1:s2]:\n",
    "        print(string, end=\"\")"
   ],
   "metadata": {
    "collapsed": false,
    "pycharm": {
     "name": "#%%\n"
    }
   }
  },
  {
   "cell_type": "code",
   "execution_count": 15,
   "outputs": [
    {
     "name": "stdout",
     "output_type": "stream",
     "text": [
      "Dear Zeka,\n",
      "I am from USA\n",
      "I like food\n",
      "You are good\n",
      "And nice\n",
      "How old are you?\n",
      "I like football\n",
      "Do you like it?\n",
      "Cool!!!!!\n",
      "Superrrrrrrrr:)\n",
      "Wow\n",
      "Music bad\n"
     ]
    }
   ],
   "source": [
    "# 10.01.e\n",
    "\n",
    "s1 = 3\n",
    "s2 = 10\n",
    "with open('task1.txt', 'r') as fin:\n",
    "    print(fin.read())"
   ],
   "metadata": {
    "collapsed": false,
    "pycharm": {
     "name": "#%%\n"
    }
   }
  },
  {
   "cell_type": "markdown",
   "source": [
    "## **Task 10-02**\n",
    "\n",
    "Создать текстовый файл и записать в него 6 строк.<br>\n",
    "Записываемые строки вводятся с клавиатуры."
   ],
   "metadata": {
    "collapsed": false
   }
  },
  {
   "cell_type": "code",
   "execution_count": 29,
   "outputs": [],
   "source": [
    "with open('task2.txt', \"w\") as fout:\n",
    "    for _ in range(6):\n",
    "        line = input('Введите строку: ') + \"\\n\"\n",
    "        fout.write(line)"
   ],
   "metadata": {
    "collapsed": false,
    "pycharm": {
     "name": "#%%\n"
    }
   }
  },
  {
   "cell_type": "markdown",
   "source": [
    "## **Task 10-03**\n",
    "\n",
    "В конец существующего текстового файла записать три новые строки текста.<br>\n",
    "Записываемые строки вводятся с клавиатуры."
   ],
   "metadata": {
    "collapsed": false
   }
  },
  {
   "cell_type": "code",
   "execution_count": null,
   "outputs": [],
   "source": [
    "with open('task2.txt', \"a\") as fout:\n",
    "    for _ in range(3):\n",
    "        line = input('Введите строку: ') + \"\\n\"\n",
    "        fout.write(line)"
   ],
   "metadata": {
    "collapsed": false,
    "pycharm": {
     "name": "#%%\n"
    }
   }
  },
  {
   "cell_type": "markdown",
   "source": [
    "## **Task 10-04**\n",
    "\n",
    "Имеется текстовый файл.<br>\n",
    "Переписать в другой файл все его строки с заменой в них символа 0 на символ 1 и наоборот."
   ],
   "metadata": {
    "collapsed": false,
    "pycharm": {
     "name": "#%% md\n"
    }
   }
  },
  {
   "cell_type": "code",
   "execution_count": 48,
   "outputs": [],
   "source": [
    "with open('task1.txt', \"r\") as fin:\n",
    "    with open('task3.txt', 'w') as fout:\n",
    "        changer = lambda char: \"0\" if char == \"1\" else \"1\" if char == \"0\" else char\n",
    "        fout.write(\"\".join(map(changer, fin.read())))"
   ],
   "metadata": {
    "collapsed": false,
    "pycharm": {
     "name": "#%%\n"
    }
   }
  },
  {
   "cell_type": "code",
   "execution_count": 58,
   "outputs": [
    {
     "name": "stdout",
     "output_type": "stream",
     "text": [
      "task1.txt\n",
      "---------------\n",
      "Dear Zeka,\n",
      "I am from USA\n",
      "I like food\n",
      "You are good\n",
      "And nice\n",
      "How old are you?\n",
      "I like football\n",
      "Do you like it?\n",
      "Cool!!!!!\n",
      "Superrrrrrrrr:)\n",
      "Wow\n",
      "Music bad\n",
      "\n",
      "111111111111111111111\n",
      "000000000000000000000\n",
      "\n",
      "task3.txt\n",
      "---------------\n",
      "Dear Zeka,\n",
      "I am from USA\n",
      "I like food\n",
      "You are good\n",
      "And nice\n",
      "How old are you?\n",
      "I like football\n",
      "Do you like it?\n",
      "Cool!!!!!\n",
      "Superrrrrrrrr:)\n",
      "Wow\n",
      "Music bad\n",
      "\n",
      "000000000000000000000\n",
      "111111111111111111111\n"
     ]
    }
   ],
   "source": [
    "with open('task1.txt', \"r\") as fin:\n",
    "    print(f\"{fin.name}\\n---------------\\n{fin.read()}\\n\")\n",
    "with open('task3.txt', \"r\") as fin:\n",
    "    print(f\"{fin.name}\\n---------------\\n{fin.read()}\")"
   ],
   "metadata": {
    "collapsed": false,
    "pycharm": {
     "name": "#%%\n"
    }
   }
  },
  {
   "cell_type": "markdown",
   "source": [
    "## **Task 10-05**\n",
    "\n",
    "Имеется текстовый файл.<br>\n",
    "Все четные строки этого файла\n",
    "записать во второй файл, а нечетные — в третий файл.<br>\n",
    "Порядок следования строк сохраняется."
   ],
   "metadata": {
    "collapsed": false,
    "pycharm": {
     "name": "#%% md\n"
    }
   }
  },
  {
   "cell_type": "code",
   "execution_count": 62,
   "outputs": [],
   "source": [
    "with open('task1.txt', \"r\") as fin:\n",
    "    with open('task1_02.txt', \"w\") as fout_1:\n",
    "        with open('task1_03.txt', \"w\") as fout_2:\n",
    "            for num, line in enumerate(fin):\n",
    "                if num % 2 == 0:\n",
    "                    fout_1.write(line)\n",
    "                else:\n",
    "                    fout_2.write(line)"
   ],
   "metadata": {
    "collapsed": false,
    "pycharm": {
     "name": "#%%\n"
    }
   }
  },
  {
   "cell_type": "code",
   "execution_count": 63,
   "outputs": [
    {
     "name": "stdout",
     "output_type": "stream",
     "text": [
      "task1_02.txt\n",
      "---------------\n",
      "Dear Zeka,\n",
      "I like food\n",
      "And nice\n",
      "I like football\n",
      "Cool!!!!!\n",
      "Wow\n",
      "\n",
      "000000000000000000000\n",
      "\n",
      "task1_03.txt\n",
      "---------------\n",
      "I am from USA\n",
      "You are good\n",
      "How old are you?\n",
      "Do you like it?\n",
      "Superrrrrrrrr:)\n",
      "Music bad\n",
      "111111111111111111111\n",
      "\n"
     ]
    }
   ],
   "source": [
    "with open('task1_02.txt', \"r\") as fin:\n",
    "    print(f\"{fin.name}\\n---------------\\n{fin.read()}\\n\")\n",
    "with open('task1_03.txt', \"r\") as fin:\n",
    "    print(f\"{fin.name}\\n---------------\\n{fin.read()}\")"
   ],
   "metadata": {
    "collapsed": false,
    "pycharm": {
     "name": "#%%\n"
    }
   }
  },
  {
   "cell_type": "markdown",
   "source": [
    "## **Task 10-06**\n",
    "\n",
    "Имеются два текстовых файла с одинаковым числом строк.<br>\n",
    "Выяснить, совпадают ли их строки. Если нет, то получить номер первой строки,<br>\n",
    "в которой эти файлы отличаются друг от друга."
   ],
   "metadata": {
    "collapsed": false
   }
  },
  {
   "cell_type": "code",
   "execution_count": 68,
   "outputs": [
    {
     "name": "stdout",
     "output_type": "stream",
     "text": [
      "String #13 is the first of mismatched!\n"
     ]
    }
   ],
   "source": [
    "with open('task1.txt', \"r\") as fin_1:\n",
    "    with open('task3.txt', \"r\") as fin_2:\n",
    "        for num, line in enumerate(fin_1):\n",
    "            if line != next(fin_2):\n",
    "                print(f\"String #{num} is the first of mismatched!\")\n",
    "                break\n",
    "        else:\n",
    "            print(\"All strings in the files match.\")"
   ],
   "metadata": {
    "collapsed": false,
    "pycharm": {
     "name": "#%%\n"
    }
   }
  },
  {
   "cell_type": "markdown",
   "source": [
    "## **Task 10-07**"
   ],
   "metadata": {
    "collapsed": false,
    "pycharm": {
     "name": "#%% md\n"
    }
   }
  },
  {
   "cell_type": "markdown",
   "source": [
    "Создать матрицу случайных чисел и сохранить ее в json файл.<br>\n",
    "После прочесть ее, обнулить все четные элементы и сохранить в другой файл"
   ],
   "metadata": {
    "collapsed": false,
    "pycharm": {
     "name": "#%% md\n"
    }
   }
  },
  {
   "cell_type": "code",
   "execution_count": 83,
   "outputs": [],
   "source": [
    "import json\n",
    "from random import randint\n",
    "size = 3\n",
    "matrix = [[randint(10, 99) for _ in range(size)] for _ in range(size)]\n",
    "\n",
    "with open('task10-7_01.json', \"w\") as fout:\n",
    "    json.dump(matrix, fout)\n",
    "\n",
    "with open('task10-7_01.json', \"r\") as fin:\n",
    "    with open('task10-7_02.json', \"w\") as fout:\n",
    "        matrix = json.load(fin)\n",
    "        matrix = [list(map(lambda elem: 0 if elem % 2 == 0 else elem, row)) for row in matrix]\n",
    "        json.dump(matrix, fout)"
   ],
   "metadata": {
    "collapsed": false,
    "pycharm": {
     "name": "#%%\n"
    }
   }
  }
 ],
 "metadata": {
  "kernelspec": {
   "display_name": "Python 3",
   "language": "python",
   "name": "python3"
  },
  "language_info": {
   "codemirror_mode": {
    "name": "ipython",
    "version": 2
   },
   "file_extension": ".py",
   "mimetype": "text/x-python",
   "name": "python",
   "nbconvert_exporter": "python",
   "pygments_lexer": "ipython2",
   "version": "2.7.6"
  }
 },
 "nbformat": 4,
 "nbformat_minor": 0
}