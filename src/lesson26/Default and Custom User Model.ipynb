{
 "cells": [
  {
   "cell_type": "markdown",
   "id": "a37f5abf",
   "metadata": {},
   "source": [
    "# Default and Custom User Model"
   ]
  },
  {
   "cell_type": "markdown",
   "id": "4b76acdc",
   "metadata": {},
   "source": [
    "## Django предоставляет дефолтную модель user\n",
    "\n",
    "https://docs.djangoproject.com/en/3.2/topics/auth/default/#user-objects\n",
    "\n",
    "Использование:\n",
    "```python\n",
    "from django.contrib.auth.models import User\n",
    "\n",
    "user = User.objects.create_user('john', 'lennon@thebeatles.com', 'johnpassword')\n",
    "```"
   ]
  },
  {
   "cell_type": "markdown",
   "id": "c7433528",
   "metadata": {},
   "source": [
    "## А как расширять и модифировать?\n",
    "\n",
    "https://habr.com/en/post/313764/\n",
    "\n",
    "- Ниже мы разберем стратегию расширения, существующей модели\n",
    "- **ДЗ:** а в домашнем задании, надо будет модифицировать и удалить ненужные поля"
   ]
  },
  {
   "cell_type": "markdown",
   "id": "aaf4d4c5",
   "metadata": {},
   "source": [
    "## Создадим новый модуль users\n",
    "\n",
    "\n",
    "```shell\n",
    "python manage.py startapp users\n",
    "```"
   ]
  },
  {
   "cell_type": "code",
   "execution_count": null,
   "id": "4ef52afa",
   "metadata": {},
   "outputs": [],
   "source": [
    "# tms_django_lessons/settings.py\n",
    "INSTALLED_APPS = [\n",
    "    ...\n",
    "    'users',\n",
    "]"
   ]
  },
  {
   "cell_type": "markdown",
   "id": "15a0de79",
   "metadata": {},
   "source": [
    "## Создадим модель Profile для дополнительных полей\n"
   ]
  },
  {
   "cell_type": "code",
   "execution_count": null,
   "id": "3d12d32a",
   "metadata": {},
   "outputs": [],
   "source": [
    "# users/models.py\n",
    "from django.db import models\n",
    "from django.contrib.auth.models import User\n",
    "\n",
    "\n",
    "class Profile(models.Model):\n",
    "    user = models.OneToOneField(User, on_delete=models.CASCADE)\n",
    "    bio = models.TextField(max_length=500, blank=True)\n",
    "    location = models.CharField(max_length=30, blank=True)\n",
    "    birth_date = models.DateField(null=True, blank=True)"
   ]
  },
  {
   "cell_type": "markdown",
   "id": "cd2f6e29",
   "metadata": {},
   "source": [
    "## Протестируем\n",
    "\n",
    "- добавим миграции\n",
    "- попробуем создать пользователя\n",
    "```python\n",
    "user = User.objects.create_user('some_user', 'some_user@some_user.com', '123123abc')\n",
    "print(user.profile)\n",
    "```\n",
    "\n",
    "Note: как оказалось профиль для дополнительных полей не создался"
   ]
  },
  {
   "cell_type": "markdown",
   "id": "fae1bace",
   "metadata": {},
   "source": [
    "## Добавим триггер на автоматическое создание профиля при создании пользователя\n",
    "\n",
    "https://docs.djangoproject.com/en/3.2/topics/signals/\n"
   ]
  },
  {
   "cell_type": "code",
   "execution_count": null,
   "id": "b997e316",
   "metadata": {},
   "outputs": [],
   "source": [
    "# users/models.py\n",
    "...\n",
    "from django.db.models.signals import post_save\n",
    "from django.dispatch import receiver\n",
    "\n",
    "...\n",
    "\n",
    "@receiver(post_save, sender=User)\n",
    "def create_user_profile(sender, instance, created, **kwargs):\n",
    "    if created:\n",
    "        Profile.objects.create(user=instance)"
   ]
  },
  {
   "cell_type": "markdown",
   "id": "acacd049",
   "metadata": {},
   "source": [
    "## Протестируем\n",
    "\n",
    "- добавим миграции\n",
    "- попробуем создать пользователя\n",
    "```python\n",
    "user = User.objects.create_user('test', 'bla@bla.com', '123123abc')\n",
    "print(user.profile)\n",
    "```"
   ]
  },
  {
   "cell_type": "code",
   "execution_count": null,
   "id": "9ac131f9",
   "metadata": {},
   "outputs": [],
   "source": []
  }
 ],
 "metadata": {
  "kernelspec": {
   "display_name": "Python 3 (ipykernel)",
   "language": "python",
   "name": "python3"
  },
  "language_info": {
   "codemirror_mode": {
    "name": "ipython",
    "version": 3
   },
   "file_extension": ".py",
   "mimetype": "text/x-python",
   "name": "python",
   "nbconvert_exporter": "python",
   "pygments_lexer": "ipython3",
   "version": "3.8.5"
  }
 },
 "nbformat": 4,
 "nbformat_minor": 5
}
