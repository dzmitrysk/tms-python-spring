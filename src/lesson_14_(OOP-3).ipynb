{
 "cells": [
  {
   "cell_type": "markdown",
   "source": [
    "# <u> Lesson 13 </u>\n",
    "### Объектно-ориентированное программирование\n",
    "### (ООП. Часть 3)"
   ],
   "metadata": {
    "collapsed": false,
    "pycharm": {
     "name": "#%% md\n"
    }
   }
  },
  {
   "cell_type": "code",
   "execution_count": 2,
   "outputs": [
    {
     "name": "stdout",
     "output_type": "stream",
     "text": [
      "Meow\n",
      "Meow\n"
     ]
    }
   ],
   "source": [
    "class Pet:\n",
    "    VOICE = None\n",
    "\n",
    "    @classmethod\n",
    "    def voice(cls: 'Pet'):\n",
    "        print(cls.VOICE)\n",
    "\n",
    "class Cat(Pet):\n",
    "    VOICE = \"Meow\"\n",
    "\n",
    "cat = Cat()\n",
    "cat.voice()\n",
    "Cat.voice()"
   ],
   "metadata": {
    "collapsed": false,
    "pycharm": {
     "name": "#%%\n"
    }
   }
  },
  {
   "cell_type": "markdown",
   "source": [
    "## Задание 13.01\n",
    "Создать метод класса get_counter. Создать три объекта класса. Вызвать через класс метод get_counter."
   ],
   "metadata": {
    "collapsed": false,
    "pycharm": {
     "name": "#%% md\n"
    }
   }
  },
  {
   "cell_type": "code",
   "execution_count": 7,
   "outputs": [
    {
     "name": "stdout",
     "output_type": "stream",
     "text": [
      "3\n",
      "3\n",
      "3\n"
     ]
    }
   ],
   "source": [
    "class Count:\n",
    "\n",
    "    __COUNTER = 0\n",
    "\n",
    "    def __init__(self):\n",
    "        Count.__COUNTER += 1\n",
    "        self.last_name = \"mark\"\n",
    "\n",
    "    @classmethod\n",
    "    def get_counter(cls):\n",
    "        return cls.__COUNTER\n",
    "\n",
    "cnt1 = Count()\n",
    "cnt2 = Count()\n",
    "cnt3 = Count()\n",
    "\n",
    "print(Count.get_counter())\n",
    "print(cnt1.get_counter())\n",
    "print(cnt2.get_counter())"
   ],
   "metadata": {
    "collapsed": false,
    "pycharm": {
     "name": "#%%\n"
    }
   }
  },
  {
   "cell_type": "markdown",
   "source": [
    "## Задание 13.02\n",
    "Создать статичный метод add_numbers для класса Math.\n",
    "Метод возвращает сумму двух переданных чисел."
   ],
   "metadata": {
    "collapsed": false,
    "pycharm": {
     "name": "#%% md\n"
    }
   }
  },
  {
   "cell_type": "code",
   "execution_count": 9,
   "outputs": [
    {
     "name": "stdout",
     "output_type": "stream",
     "text": [
      "3\n",
      "3\n"
     ]
    }
   ],
   "source": [
    "class Mathematics:\n",
    "    @staticmethod\n",
    "    def add_numbers(x, y):\n",
    "        return x + y\n",
    "\n",
    "print(Mathematics.add_numbers(1, 2))\n",
    "math_obj = Mathematics()\n",
    "print(math_obj.add_numbers(1, 2))\n"
   ],
   "metadata": {
    "collapsed": false,
    "pycharm": {
     "name": "#%%\n"
    }
   }
  },
  {
   "cell_type": "code",
   "execution_count": 12,
   "outputs": [
    {
     "ename": "MyException",
     "evalue": "AAA!!",
     "output_type": "error",
     "traceback": [
      "\u001B[1;31m---------------------------------------------------------------------------\u001B[0m",
      "\u001B[1;31mMyException\u001B[0m                               Traceback (most recent call last)",
      "\u001B[1;32m<ipython-input-12-cf3e6725ed46>\u001B[0m in \u001B[0;36m<module>\u001B[1;34m\u001B[0m\n\u001B[0;32m      2\u001B[0m     \u001B[1;32mdef\u001B[0m \u001B[0m__init__\u001B[0m\u001B[1;33m(\u001B[0m\u001B[0mself\u001B[0m\u001B[1;33m,\u001B[0m \u001B[0mmessage\u001B[0m\u001B[1;33m=\u001B[0m\u001B[1;34m'AAA!!'\u001B[0m\u001B[1;33m)\u001B[0m\u001B[1;33m:\u001B[0m\u001B[1;33m\u001B[0m\u001B[1;33m\u001B[0m\u001B[0m\n\u001B[0;32m      3\u001B[0m         \u001B[0msuper\u001B[0m\u001B[1;33m(\u001B[0m\u001B[1;33m)\u001B[0m\u001B[1;33m.\u001B[0m\u001B[0m__init__\u001B[0m\u001B[1;33m(\u001B[0m\u001B[0mmessage\u001B[0m\u001B[1;33m)\u001B[0m\u001B[1;33m\u001B[0m\u001B[1;33m\u001B[0m\u001B[0m\n\u001B[1;32m----> 4\u001B[1;33m \u001B[1;32mraise\u001B[0m \u001B[0mMyException\u001B[0m\u001B[1;33m\u001B[0m\u001B[1;33m\u001B[0m\u001B[0m\n\u001B[0m",
      "\u001B[1;31mMyException\u001B[0m: AAA!!"
     ]
    }
   ],
   "source": [
    "class MyException(Exception):\n",
    "    def __init__(self, message='AAA!!'):\n",
    "        super().__init__(message)\n",
    "raise MyException"
   ],
   "metadata": {
    "collapsed": false,
    "pycharm": {
     "name": "#%%\n"
    }
   }
  },
  {
   "cell_type": "markdown",
   "source": [
    "## Задание 13.04\n",
    "Создать класс Book.<br>\n",
    "Атрибуты: количество страниц, год издания, автор, цена.<br>\n",
    "Добавить валидацию в конструкторе на ввод корректных данных.<br>\n",
    "Создать иерархию ошибок.\n"
   ],
   "metadata": {
    "collapsed": false,
    "pycharm": {
     "name": "#%% md\n"
    }
   }
  },
  {
   "cell_type": "code",
   "execution_count": 18,
   "outputs": [
    {
     "ename": "YearException",
     "evalue": "Значение года должно быть в интервале [0...2021]",
     "output_type": "error",
     "traceback": [
      "\u001B[1;31m---------------------------------------------------------------------------\u001B[0m",
      "\u001B[1;31mYearException\u001B[0m                             Traceback (most recent call last)",
      "\u001B[1;32m<ipython-input-18-27fecc6751a2>\u001B[0m in \u001B[0;36m<module>\u001B[1;34m\u001B[0m\n\u001B[0;32m     38\u001B[0m \u001B[1;33m\u001B[0m\u001B[0m\n\u001B[0;32m     39\u001B[0m \u001B[0mbook\u001B[0m \u001B[1;33m=\u001B[0m \u001B[0mBook\u001B[0m\u001B[1;33m(\u001B[0m\u001B[1;36m200\u001B[0m\u001B[1;33m,\u001B[0m \u001B[1;36m2000\u001B[0m\u001B[1;33m,\u001B[0m \u001B[1;34m\"F. Dostoevsky\"\u001B[0m\u001B[1;33m,\u001B[0m \u001B[1;36m300\u001B[0m\u001B[1;33m)\u001B[0m\u001B[1;33m\u001B[0m\u001B[1;33m\u001B[0m\u001B[0m\n\u001B[1;32m---> 40\u001B[1;33m \u001B[0mbook_1\u001B[0m \u001B[1;33m=\u001B[0m \u001B[0mBook\u001B[0m\u001B[1;33m(\u001B[0m\u001B[1;36m200\u001B[0m\u001B[1;33m,\u001B[0m \u001B[1;36m2022\u001B[0m\u001B[1;33m,\u001B[0m \u001B[1;34m\"F. Dostoevsky\"\u001B[0m\u001B[1;33m,\u001B[0m \u001B[1;33m-\u001B[0m\u001B[1;36m300\u001B[0m\u001B[1;33m)\u001B[0m\u001B[1;33m\u001B[0m\u001B[1;33m\u001B[0m\u001B[0m\n\u001B[0m",
      "\u001B[1;32m<ipython-input-18-27fecc6751a2>\u001B[0m in \u001B[0;36m__init__\u001B[1;34m(self, count_pages, year, author, price)\u001B[0m\n\u001B[0;32m     28\u001B[0m             \u001B[1;32mraise\u001B[0m \u001B[0mAuthorException\u001B[0m\u001B[1;33m\u001B[0m\u001B[1;33m\u001B[0m\u001B[0m\n\u001B[0;32m     29\u001B[0m         \u001B[1;32mif\u001B[0m \u001B[1;32mnot\u001B[0m \u001B[1;36m0\u001B[0m \u001B[1;33m<=\u001B[0m \u001B[0myear\u001B[0m \u001B[1;33m<=\u001B[0m \u001B[1;36m2021\u001B[0m\u001B[1;33m:\u001B[0m\u001B[1;33m\u001B[0m\u001B[1;33m\u001B[0m\u001B[0m\n\u001B[1;32m---> 30\u001B[1;33m             \u001B[1;32mraise\u001B[0m \u001B[0mYearException\u001B[0m\u001B[1;33m\u001B[0m\u001B[1;33m\u001B[0m\u001B[0m\n\u001B[0m\u001B[0;32m     31\u001B[0m         \u001B[1;32mif\u001B[0m \u001B[0mprice\u001B[0m \u001B[1;33m<\u001B[0m \u001B[1;36m0\u001B[0m\u001B[1;33m:\u001B[0m\u001B[1;33m\u001B[0m\u001B[1;33m\u001B[0m\u001B[0m\n\u001B[0;32m     32\u001B[0m             \u001B[1;32mraise\u001B[0m \u001B[0mPriceException\u001B[0m\u001B[1;33m\u001B[0m\u001B[1;33m\u001B[0m\u001B[0m\n",
      "\u001B[1;31mYearException\u001B[0m: Значение года должно быть в интервале [0...2021]"
     ]
    }
   ],
   "source": [
    "class CountPagesException(Exception):\n",
    "    def __init__(self, message=\"Неправильный формат данных для количества страниц\"):\n",
    "        super().__init__(message)\n",
    "\n",
    "class YearException(Exception):\n",
    "    def __init__(self, message=\"Значение года должно быть в интервале [0...2021]\"):\n",
    "        super().__init__(message)\n",
    "\n",
    "class AuthorException(Exception):\n",
    "    def __init__(self, message=\"Атрибут 'Автор' должен иметь тип str\"):\n",
    "        super().__init__(message)\n",
    "\n",
    "class PriceException(Exception):\n",
    "    def __init__(self, message=\"Цена не должна быть отрицательной\"):\n",
    "        super().__init__(message)\n",
    "\n",
    "class Book:\n",
    "    count_pages: int\n",
    "    year: int\n",
    "    author: str\n",
    "    price: int\n",
    "\n",
    "\n",
    "    def __init__(self, count_pages: int, year: int, author: str, price: int):\n",
    "        if type(count_pages) != int:\n",
    "            raise CountPagesException\n",
    "        if type(author) != str:\n",
    "            raise AuthorException\n",
    "        if not 0 <= year <= 2021:\n",
    "            raise YearException\n",
    "        if price < 0:\n",
    "            raise PriceException\n",
    "\n",
    "        self.count_pages = count_pages\n",
    "        self.year = year\n",
    "        self.author = author\n",
    "        self.price = price\n",
    "\n",
    "book = Book(200, 2000, \"F. Dostoevsky\", 300)\n",
    "book_1 = Book(200, 2022, \"F. Dostoevsky\", -300)"
   ],
   "metadata": {
    "collapsed": false,
    "pycharm": {
     "name": "#%%\n"
    }
   }
  }
 ],
 "metadata": {
  "kernelspec": {
   "display_name": "Python 3",
   "language": "python",
   "name": "python3"
  },
  "language_info": {
   "codemirror_mode": {
    "name": "ipython",
    "version": 2
   },
   "file_extension": ".py",
   "mimetype": "text/x-python",
   "name": "python",
   "nbconvert_exporter": "python",
   "pygments_lexer": "ipython2",
   "version": "2.7.6"
  }
 },
 "nbformat": 4,
 "nbformat_minor": 0
}